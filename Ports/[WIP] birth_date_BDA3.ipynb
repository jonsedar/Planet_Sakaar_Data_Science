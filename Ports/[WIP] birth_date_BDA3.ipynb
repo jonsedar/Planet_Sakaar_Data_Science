{
 "cells": [
  {
   "cell_type": "markdown",
   "metadata": {},
   "source": [
    "# Birthdates demo using Gaussian Processes\n",
    "\n",
    "From [Model in gpstuff](https://research.cs.aalto.fi/pml/software/gpstuff/demo_births.shtml):\n",
    "> Demonstration of analysis of birthday frequencies in USA 1969-1988 using Gaussian process with several components. Demonstration includes two parts a) analysis of data having sum of births for each day of year and b) analysis for whole time series. Data source: National Vital Statistics System natality data, as provided by Google BigQuery and exported to cvs by Chris Mulligan (sum data http://chmullig.com/wp-content/uploads/2012/06/births.csv) and Robert Kern (whole time series http://www.mechanicalkern.com/static/birthdates-1968-1988.csv)\n",
    "\n",
    "For more seeAndrew Gelman's blog post: https://andrewgelman.com/2016/05/18/birthday-analysis-friday-the-13th-update/"
   ]
  },
  {
   "cell_type": "markdown",
   "metadata": {},
   "source": [
    "## Part A) analysis of data having sum of births for each day of year"
   ]
  },
  {
   "cell_type": "code",
   "execution_count": 1,
   "metadata": {},
   "outputs": [
    {
     "name": "stderr",
     "output_type": "stream",
     "text": [
      "/usr/local/google/home/junpenglao/anaconda3/lib/python3.6/site-packages/h5py/__init__.py:36: FutureWarning: Conversion of the second argument of issubdtype from `float` to `np.floating` is deprecated. In future, it will be treated as `np.float64 == np.dtype(float).type`.\n",
      "  from ._conv import register_converters as _register_converters\n"
     ]
    },
    {
     "name": "stdout",
     "output_type": "stream",
     "text": [
      "Populating the interactive namespace from numpy and matplotlib\n"
     ]
    }
   ],
   "source": [
    "import numpy as np\n",
    "import pymc3 as pm\n",
    "import pandas as pd\n",
    "import seaborn as sns\n",
    "import theano.tensor as tt\n",
    "import theano\n",
    "\n",
    "%pylab inline\n",
    "%config InlineBackend.figure_format = 'retina'\n",
    "plt.style.use('ggplot')"
   ]
  },
  {
   "cell_type": "code",
   "execution_count": 14,
   "metadata": {},
   "outputs": [],
   "source": [
    "# load data\n",
    "df = pd.read_csv('http://chmullig.com/wp-content/uploads/2012/06/births.csv', sep=',');\n",
    "\n",
    "# remove strange values\n",
    "df[df['births']<1e3] = np.nan\n",
    "df = df.dropna().reset_index(drop=True)\n",
    "# multiply leap day value by 4\n",
    "df['births'][59] = df['births'][59]*4"
   ]
  },
  {
   "cell_type": "code",
   "execution_count": 21,
   "metadata": {},
   "outputs": [],
   "source": [
    "# target and covariate\n",
    "y = df['births'].values.astype('float')\n",
    "x = df.index.values.astype('float')\n",
    "# normalize\n",
    "xmean, xstd = np.mean(x), 1\n",
    "xn = (x-xmean)/xstd\n",
    "ymean, ystd = np.mean(y), np.std(y)\n",
    "yn = (y-ymean)/ystd"
   ]
  },
  {
   "cell_type": "code",
   "execution_count": 22,
   "metadata": {},
   "outputs": [
    {
     "data": {
      "text/plain": [
       "(100, 3)"
      ]
     },
     "execution_count": 22,
     "metadata": {},
     "output_type": "execute_result"
    }
   ],
   "source": [
    "np.dot(np.random.randn(100, 5), np.random.randn(5, 3)).shape"
   ]
  },
  {
   "cell_type": "code",
   "execution_count": null,
   "metadata": {},
   "outputs": [],
   "source": []
  }
 ],
 "metadata": {
  "kernelspec": {
   "display_name": "Python 3",
   "language": "python",
   "name": "python3"
  },
  "language_info": {
   "codemirror_mode": {
    "name": "ipython",
    "version": 3
   },
   "file_extension": ".py",
   "mimetype": "text/x-python",
   "name": "python",
   "nbconvert_exporter": "python",
   "pygments_lexer": "ipython3",
   "version": "3.8.3"
  }
 },
 "nbformat": 4,
 "nbformat_minor": 2
}
